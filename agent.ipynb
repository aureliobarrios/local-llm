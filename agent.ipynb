{
 "cells": [
  {
   "cell_type": "markdown",
   "id": "d6000c66",
   "metadata": {},
   "source": [
    "### Imports"
   ]
  },
  {
   "cell_type": "code",
   "execution_count": 16,
   "id": "d2b3bbe8",
   "metadata": {},
   "outputs": [],
   "source": [
    "import os\n",
    "from getpass import getpass\n",
    "from langchain_core.prompts import ChatPromptTemplate\n",
    "from langchain_core.tools import tool\n",
    "from langchain_community.tools.tavily_search import TavilySearchResults\n",
    "from langgraph.prebuilt import create_react_agent\n",
    "from langchain_ollama import ChatOllama\n",
    "from langchain_core.messages import HumanMessage, AIMessage, SystemMessage, BaseMessage"
   ]
  },
  {
   "cell_type": "code",
   "execution_count": 3,
   "id": "62a5d9ce",
   "metadata": {},
   "outputs": [],
   "source": [
    "keys = [\"TAVILY_API_KEY\"]\n",
    "\n",
    "for key in keys:\n",
    "    if key not in os.environ:\n",
    "        os.environ[key] = getpass(f\"Enter your {key}: \")"
   ]
  },
  {
   "cell_type": "code",
   "execution_count": 12,
   "id": "90cc0679",
   "metadata": {},
   "outputs": [],
   "source": [
    "#initialize model\n",
    "llm = ChatOllama(model=\"gpt-oss:20b\",)"
   ]
  },
  {
   "cell_type": "code",
   "execution_count": 13,
   "id": "ff4fbc03",
   "metadata": {},
   "outputs": [],
   "source": [
    "@tool\n",
    "def search_web(query: str) -> str:\n",
    "    \"\"\"Search the web for information\"\"\"\n",
    "    if \"TAVILY_API_KEY\" not in os.environ:\n",
    "        return \"Web search unavailable (no Tavily API key)\"\n",
    "\n",
    "    try:\n",
    "        search = TavilySearchResults(max_results=3)\n",
    "        results = search.invoke(query)\n",
    "        if results:\n",
    "            return f\"Search results for '{query}': {results[:200]}...\"\n",
    "        return \"No results found\"\n",
    "    except Exception as e:\n",
    "        return f\"Search error: {str(e)}\""
   ]
  },
  {
   "cell_type": "code",
   "execution_count": 14,
   "id": "92553e70",
   "metadata": {},
   "outputs": [],
   "source": [
    "#create ReAct agent with tools\n",
    "tools = [search_web]"
   ]
  },
  {
   "cell_type": "code",
   "execution_count": 15,
   "id": "ed661c7e",
   "metadata": {},
   "outputs": [],
   "source": [
    "react_agent = create_react_agent(model=llm, tools=tools)"
   ]
  },
  {
   "cell_type": "code",
   "execution_count": 17,
   "id": "f1948ea7",
   "metadata": {},
   "outputs": [
    {
     "name": "stderr",
     "output_type": "stream",
     "text": [
      "/var/folders/39/t3m199396g56pr72q2ngcmqc0000gn/T/ipykernel_14802/3885224549.py:8: LangChainDeprecationWarning: The class `TavilySearchResults` was deprecated in LangChain 0.3.25 and will be removed in 1.0. An updated version of the class exists in the :class:`~langchain-tavily package and should be used instead. To use it run `pip install -U :class:`~langchain-tavily` and import as `from :class:`~langchain_tavily import TavilySearch``.\n",
      "  search = TavilySearchResults(max_results=3)\n"
     ]
    }
   ],
   "source": [
    "result = react_agent.invoke({\n",
    "    \"messages\": [HumanMessage(content=\"What is 25 * 16, and can you find information about LangGraph?\")]\n",
    "})"
   ]
  },
  {
   "cell_type": "code",
   "execution_count": 18,
   "id": "535b7be7",
   "metadata": {},
   "outputs": [
    {
     "name": "stdout",
     "output_type": "stream",
     "text": [
      "Agent conversation:\n",
      "HumanMessage: What is 25 * 16, and can you find information about LangGraph?...\n",
      "Tool Result (None): ...\n",
      "ToolMessage: Search results for 'LangGraph': [{'title': 'What is LangGraph?', 'url': 'https://www.ibm.com/think/t...\n",
      "AIMessage: **25 × 16 = 400**\n",
      "\n",
      "---\n",
      "\n",
      "## What is **LangGraph**?\n",
      "\n",
      "| Feature | Description |\n",
      "|---------|------------...\n"
     ]
    }
   ],
   "source": [
    "print(\"Agent conversation:\")\n",
    "for message in result[\"messages\"]:\n",
    "    if hasattr(message, 'content') and message.content:\n",
    "        print(f\"{type(message).__name__}: {message.content[:100]}...\")\n",
    "    elif hasattr(message, 'name'):\n",
    "        print(f\"Tool Result ({message.name}): {message.content[:50]}...\")"
   ]
  }
 ],
 "metadata": {
  "kernelspec": {
   "display_name": "localVENV",
   "language": "python",
   "name": "python3"
  },
  "language_info": {
   "codemirror_mode": {
    "name": "ipython",
    "version": 3
   },
   "file_extension": ".py",
   "mimetype": "text/x-python",
   "name": "python",
   "nbconvert_exporter": "python",
   "pygments_lexer": "ipython3",
   "version": "3.13.7"
  }
 },
 "nbformat": 4,
 "nbformat_minor": 5
}
